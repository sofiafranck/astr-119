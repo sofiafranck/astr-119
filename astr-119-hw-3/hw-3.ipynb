{
 "cells": [
  {
   "cell_type": "code",
   "execution_count": null,
   "id": "cb5a09db",
   "metadata": {},
   "outputs": [],
   "source": [
    "%matplotlib inline\n",
    "import numpy as np\n",
    "import matplotlib.pyplot as plt"
   ]
  },
  {
   "cell_type": "code",
   "execution_count": null,
   "id": "566ae7d4",
   "metadata": {},
   "outputs": [],
   "source": [
    "x = np.linspace(0,2*np.pi,1000) #range for x-axis\n",
    "y_1 = 5.5*np.cos(2*x)+5.5 #creating first function\n",
    "y_2 = 0.02*np.exp(x) #creating second function\n",
    "y_3 = 0.25*np.power(x,2)+0.1*np.sin(10*x) #creating third function \n",
    "plt.plot(x,y_1) #plotting the first function\n",
    "plt.plot(x,y_2) #plotting the second function\n",
    "plt.plot(x,y_3) #plotting the third function\n",
    "plt.xlim([0,2*np.pi])\n",
    "plt.ylim([-1,10])\n",
    "plt.xlabel('Time in ASTR 119') #label for x-axis\n",
    "plt.ylabel('Measures of Awesomeness') #label for y-axis\n",
    "plt.show()"
   ]
  },
  {
   "cell_type": "code",
   "execution_count": null,
   "id": "64760426",
   "metadata": {},
   "outputs": [],
   "source": []
  },
  {
   "cell_type": "code",
   "execution_count": null,
   "id": "6aed1011",
   "metadata": {},
   "outputs": [],
   "source": []
  }
 ],
 "metadata": {
  "kernelspec": {
   "display_name": "Python 3 (ipykernel)",
   "language": "python",
   "name": "python3"
  },
  "language_info": {
   "codemirror_mode": {
    "name": "ipython",
    "version": 3
   },
   "file_extension": ".py",
   "mimetype": "text/x-python",
   "name": "python",
   "nbconvert_exporter": "python",
   "pygments_lexer": "ipython3",
   "version": "3.9.6"
  }
 },
 "nbformat": 4,
 "nbformat_minor": 5
}
