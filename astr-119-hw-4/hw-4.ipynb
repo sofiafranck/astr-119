{
 "cells": [
  {
   "cell_type": "code",
   "execution_count": null,
   "id": "4068b551",
   "metadata": {},
   "outputs": [],
   "source": [
    "%matplotlib inline\n",
    "import numpy as np\n",
    "import matplotlib.pyplot as plt"
   ]
  },
  {
   "cell_type": "markdown",
   "id": "280da0fb",
   "metadata": {},
   "source": [
    "# Creating function that we want to find the roots for"
   ]
  },
  {
   "cell_type": "code",
   "execution_count": null,
   "id": "04853c26",
   "metadata": {},
   "outputs": [],
   "source": [
    "def function_for_roots(x):\n",
    "    a = 1.01\n",
    "    b = -3.04\n",
    "    c = 2.07\n",
    "    return a*x**2 + b*x + c #get the roots of quadratic"
   ]
  },
  {
   "cell_type": "markdown",
   "id": "533247d8",
   "metadata": {},
   "source": [
    "# Function to check if initial values are valid"
   ]
  },
  {
   "cell_type": "code",
   "execution_count": null,
   "id": "8e283601",
   "metadata": {},
   "outputs": [],
   "source": [
    "def check_initial_values(f, x_min, x_max, tol):\n",
    "    \n",
    "    #check our initial guesses\n",
    "    y_min = f(x_min)\n",
    "    y_max = f(x_max)\n",
    "    \n",
    "    #check that x_min and x_max contain a zero\n",
    "    if(y_min*y_max>=0.0):\n",
    "        print(\"No zero crossing found in the range = \", x_min,x_max)\n",
    "        s = \"func(%f) = %f, func(%f) = %f\" % (x_min,y_min,x_max,y_max)\n",
    "        print(s)\n",
    "        return 0\n",
    "    \n",
    "    #if x_min is a root, then return flag == 1\n",
    "    if(np.fabs(y_min)<tol):\n",
    "        return 1\n",
    "    #if x_max is a root, then return flag == 2\n",
    "    if(np.fabs(y_max)<tol):\n",
    "        return 2\n",
    "    #if we reach this point, the bracket is valid\n",
    "    #and we will return 3\n",
    "    return 3"
   ]
  },
  {
   "cell_type": "markdown",
   "id": "a8b7a5ee",
   "metadata": {},
   "source": [
    "# Time to create a function to perform the iterative search"
   ]
  },
  {
   "cell_type": "code",
   "execution_count": null,
   "id": "7e5395da",
   "metadata": {},
   "outputs": [],
   "source": [
    "def bisection_root_finding(f, x_min_start, x_max_start, tol):\n",
    "    \n",
    "    #This function uses a bisection search to find the roots of the function\n",
    "    x_min = x_min_start #minimum x in bracket\n",
    "    x_max = x_max_start #maximum x in bracket\n",
    "    x_mid = 0.0  #mid point\n",
    "    \n",
    "    y_min = f(x_min) #function value at x_min\n",
    "    y_max = f(x_max) #function value at x_max\n",
    "    y_mid = 0.0 #function value at mid point\n",
    "    \n",
    "    imax = 1000 #set maximum number of iterations\n",
    "    i = 0 #iteration counter\n",
    "    \n",
    "    #check for initial values\n",
    "    flag = check_initial_values(f,x_min,x_max,tol)\n",
    "    if(flag==0):\n",
    "        print(\"Error in bisection root finding().\")\n",
    "        raise ValueError('Initial values invalid',x_min,x_max)\n",
    "    elif(flag==1):\n",
    "        #lucky guess\n",
    "        return x_min\n",
    "    elif(flag==2):\n",
    "        #another lucky guess\n",
    "        return x_max\n",
    "    #if this point is reached, search needs to be conducted \n",
    "    \n",
    "    #set a flag\n",
    "    flag = 1\n",
    "    \n",
    "    #create a while loop \n",
    "    while(flag):\n",
    "        x_mid = 0.5*(x_min + x_max) #x mid point \n",
    "        y_mid = f(x_mid) #function value at x_mid\n",
    "        \n",
    "        #check if x_mid is a root\n",
    "        if(np.fabs(y_mid)<tol):\n",
    "            flag = 0\n",
    "        else: \n",
    "            #x_mid is not a root\n",
    "            \n",
    "            #if the product of the function at the mid point \n",
    "            #and at one of the end points is greater than zero\n",
    "            #then replace this endpoint \n",
    "            if(f(x_min)*f(x_mid)>0):\n",
    "            #replace x_min with x_mid\n",
    "                x_min = x_mid\n",
    "            \n",
    "            else:\n",
    "            #replace x_max with x_min\n",
    "                x_max = x_mid\n",
    "            \n",
    "        #print out the iteration \n",
    "        print(x_min,f(x_min),x_max,f(x_max))\n",
    "        \n",
    "        #count the iteration \n",
    "        i += 1\n",
    "        \n",
    "        #if we have exceeded max number of\n",
    "        #iterations, exit\n",
    "        \n",
    "        if(i>imax):\n",
    "            print(\"Exceeded max number of iterations = \", i)\n",
    "            s = \"Min bracket f(%f) = %f\" % (x_min,f(x_min))\n",
    "            print(s)\n",
    "            s = \"Max bracket f(%f) = %f\" % (x_max,f(x_max))\n",
    "            print(s)\n",
    "            s = \"Mid bracket f($f) = %f\" % (x_mid,f(x_mid))\n",
    "            print(s)\n",
    "            raise StopIteration('Stopping iterations after ', i)\n",
    "            \n",
    "    #All done!\n",
    "    return x_mid"
   ]
  },
  {
   "cell_type": "markdown",
   "id": "e1ec2194",
   "metadata": {},
   "source": [
    "# Time to perform Bisection Search"
   ]
  },
  {
   "cell_type": "markdown",
   "id": "4edffc29",
   "metadata": {},
   "source": [
    "### First Root"
   ]
  },
  {
   "cell_type": "code",
   "execution_count": null,
   "id": "4de7a99a",
   "metadata": {},
   "outputs": [],
   "source": [
    "x_min = 0.0 \n",
    "x_max = 1.5\n",
    "tolerance = 1.0e-6\n",
    "\n",
    "#print the initial guess\n",
    "print(x_min, function_for_roots(x_min))\n",
    "print(x_max, function_for_roots(x_max))\n",
    "\n",
    "x_root = bisection_root_finding(function_for_roots, x_min, x_max, tolerance)\n",
    "y_root = function_for_roots(x_root)\n",
    "\n",
    "a = \"Root found with f(%f) = %f\" % (x_root, y_root)\n",
    "print(a)"
   ]
  },
  {
   "cell_type": "markdown",
   "id": "7b1c4506",
   "metadata": {},
   "source": [
    "### Second Root"
   ]
  },
  {
   "cell_type": "code",
   "execution_count": null,
   "id": "428a5772",
   "metadata": {},
   "outputs": [],
   "source": [
    "x_min = 1.5\n",
    "x_max = 3.0\n",
    "tolerance = 1.0e-6\n",
    "\n",
    "#print the initial guess\n",
    "print(x_min, function_for_roots(x_min))\n",
    "print(x_max, function_for_roots(x_max))\n",
    "\n",
    "x_root = bisection_root_finding(function_for_roots, x_min, x_max, tolerance)\n",
    "y_root = function_for_roots(x_root)\n",
    "\n",
    "a = \"Root found with f(%f) = %f\" % (x_root, y_root)\n",
    "print(a)"
   ]
  },
  {
   "cell_type": "markdown",
   "id": "d81782dd",
   "metadata": {},
   "source": [
    "### The Bisection Method took 18 iterations to converge"
   ]
  },
  {
   "cell_type": "markdown",
   "id": "24996df1",
   "metadata": {},
   "source": [
    "# Time to graph f(x) vs x"
   ]
  },
  {
   "cell_type": "code",
   "execution_count": null,
   "id": "f67be369",
   "metadata": {},
   "outputs": [],
   "source": [
    "x = np.linspace(0,3,1000) #range for the x-axis\n",
    "a = 1.01\n",
    "b = -3.04\n",
    "c = 2.07\n",
    "y_1 = a*x**2 + b*x + c #creating the function\n",
    "plt.plot(x, y_1)\n",
    "plt.axhline(y = 0.0, color = 'k') #horizontal line\n",
    "plt.plot(0.0, 2.07, 'ro') #initial guess\n",
    "plt.plot(1.5, -0.2175000000000007, 'ro') #initial guess\n",
    "plt.plot(3.0, 2.0399999999999987, 'ro') #initial guess\n",
    "plt.plot(1.040863037109375,0.000001, 'go' ) #Root 1\n",
    "plt.plot(1.969030, -0.000001, 'go') #Root 2\n",
    "plt.xlim([0,3])\n",
    "plt.ylim([-0.5,2.1])\n",
    "plt.xlabel('x') #label for x-axis\n",
    "plt.ylabel('f(x)') #label for y-axis\n",
    "plt.show()"
   ]
  },
  {
   "cell_type": "code",
   "execution_count": null,
   "id": "f6115067",
   "metadata": {},
   "outputs": [],
   "source": []
  }
 ],
 "metadata": {
  "kernelspec": {
   "display_name": "Python 3 (ipykernel)",
   "language": "python",
   "name": "python3"
  },
  "language_info": {
   "codemirror_mode": {
    "name": "ipython",
    "version": 3
   },
   "file_extension": ".py",
   "mimetype": "text/x-python",
   "name": "python",
   "nbconvert_exporter": "python",
   "pygments_lexer": "ipython3",
   "version": "3.9.6"
  }
 },
 "nbformat": 4,
 "nbformat_minor": 5
}
