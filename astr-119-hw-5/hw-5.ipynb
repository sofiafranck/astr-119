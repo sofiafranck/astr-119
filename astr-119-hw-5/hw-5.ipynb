{
 "cells": [
  {
   "cell_type": "markdown",
   "id": "90669e9a",
   "metadata": {},
   "source": [
    "### Notebook to numerically integrate f(x) = e^(-2x)cos(10x)"
   ]
  },
  {
   "cell_type": "code",
   "execution_count": null,
   "id": "180dc614",
   "metadata": {},
   "outputs": [],
   "source": [
    "%matplotlib inline\n",
    "import matplotlib.pyplot as plt\n",
    "import numpy as np"
   ]
  },
  {
   "cell_type": "markdown",
   "id": "6ffacbad",
   "metadata": {},
   "source": [
    "## First, define a function for taking an integral"
   ]
  },
  {
   "cell_type": "code",
   "execution_count": null,
   "id": "960733da",
   "metadata": {},
   "outputs": [],
   "source": [
    "def func(x):\n",
    "    a = 2.0\n",
    "    b = 10.0\n",
    "    return (np.exp(-1*a*x))*np.cos(b*x)"
   ]
  },
  {
   "cell_type": "markdown",
   "id": "0908e5e7",
   "metadata": {},
   "source": [
    "## Next, define the functions integral "
   ]
  },
  {
   "cell_type": "code",
   "execution_count": null,
   "id": "86d98720",
   "metadata": {},
   "outputs": [],
   "source": [
    "def func_integral(x):\n",
    "    a = 2.0\n",
    "    b = 10.0\n",
    "    c = 5.0\n",
    "    d = 52.0\n",
    "    return ((np.exp(-1*a*x))*(c*np.sin(b*x) - np.cos(b*x)))/d"
   ]
  },
  {
   "cell_type": "markdown",
   "id": "9b285b2a",
   "metadata": {},
   "source": [
    "## We will beging with the Trapezoid Method"
   ]
  },
  {
   "cell_type": "markdown",
   "id": "dd02cb9f",
   "metadata": {},
   "source": [
    "### Define the core of the trapezoid method"
   ]
  },
  {
   "cell_type": "code",
   "execution_count": null,
   "id": "7a37dcb6",
   "metadata": {},
   "outputs": [],
   "source": [
    "def trapezoid_core(f,x,h):\n",
    "    return 0.5*h*(f(x+h) + f(x))"
   ]
  },
  {
   "cell_type": "markdown",
   "id": "375338a6",
   "metadata": {},
   "source": [
    "### Define a wrapper function to perform the method"
   ]
  },
  {
   "cell_type": "code",
   "execution_count": null,
   "id": "a0f4a920",
   "metadata": {},
   "outputs": [],
   "source": [
    "def trapezoid_method(f,a,b,N):\n",
    "    #f == function to integrate\n",
    "    #a == lower limit of integration\n",
    "    #b == upper limit of integration\n",
    "    #N == number of function evaluations to use\n",
    "    \n",
    "    #define x values to perform the trapezoid rule\n",
    "    x = np.linspace(a,b,N)\n",
    "    h = x[1] - x[0]\n",
    "    \n",
    "    #define the value of the integral\n",
    "    Fint = 0.0\n",
    "    \n",
    "    #perform the integral using the trapezoid method\n",
    "    for i in range(0,len(x)-1,1):\n",
    "        Fint += trapezoid_core(f,x[i],h)\n",
    "        \n",
    "    #return the answer\n",
    "    return Fint"
   ]
  },
  {
   "cell_type": "markdown",
   "id": "53645fcf",
   "metadata": {},
   "source": [
    "## Now we will use the Simpson's Method"
   ]
  },
  {
   "cell_type": "markdown",
   "id": "350f938e",
   "metadata": {},
   "source": [
    "### Define the core of Simpson's Method"
   ]
  },
  {
   "cell_type": "code",
   "execution_count": null,
   "id": "c20d8c2b",
   "metadata": {},
   "outputs": [],
   "source": [
    "def simpson_core(f,x,h):\n",
    "    return h*(f(x) + 4*f(x+h) + f(x+2*h))/3."
   ]
  },
  {
   "cell_type": "markdown",
   "id": "46275fe9",
   "metadata": {},
   "source": [
    "### Define a wrapper function to perform Simpson's Method"
   ]
  },
  {
   "cell_type": "code",
   "execution_count": null,
   "id": "b99fd5ca",
   "metadata": {},
   "outputs": [],
   "source": [
    "def simpsons_method(f,a,b,N):\n",
    "    #f == function to integrate\n",
    "    #a == lower limit of integration\n",
    "    #b == upper limit of integration\n",
    "    #N == number of function evaluations to use\n",
    "    \n",
    "    #define x values to perform simpsons rule\n",
    "    x = np.linspace(a,b,N)\n",
    "    h = x[1]-x[0]\n",
    "    \n",
    "    #define the value of the integral\n",
    "    Fint = 0.0\n",
    "    \n",
    "    #perform the integral using simpsons method\n",
    "    for i in range(0,len(x)-2,2):\n",
    "        Fint += simpson_core(f,x[i],h)\n",
    "        \n",
    "    #apply simpson's rule over the last interval \n",
    "    #if N is even\n",
    "    if((N%2) == 0):\n",
    "        Fint += simpson_core(f,x[-2],0.5*h)\n",
    "        \n",
    "    return Fint"
   ]
  },
  {
   "cell_type": "markdown",
   "id": "9da336cb",
   "metadata": {},
   "source": [
    "## Lastly we will use Romberg Integration"
   ]
  },
  {
   "cell_type": "markdown",
   "id": "e0eb146a",
   "metadata": {},
   "source": [
    "### Define the Romberg Integration core"
   ]
  },
  {
   "cell_type": "code",
   "execution_count": null,
   "id": "6ccd83dc",
   "metadata": {},
   "outputs": [],
   "source": [
    "def romberg_core(f,a,b,i):\n",
    "    \n",
    "    #difference between a and b\n",
    "    h = b-a\n",
    "    \n",
    "    #increment between new func evals\n",
    "    dh = h/2.**(i)\n",
    "    \n",
    "    #cofactor\n",
    "    K = h/2.**(i+1)\n",
    "    \n",
    "    #function evaluations\n",
    "    M = 0.0\n",
    "    for j in range(2**i):\n",
    "        M += f(a + 0.5*dh + j*dh)\n",
    "        \n",
    "    return K*M"
   ]
  },
  {
   "cell_type": "markdown",
   "id": "7ad3513a",
   "metadata": {},
   "source": [
    "### Define a wrapper function to perform Romberg Integration"
   ]
  },
  {
   "cell_type": "code",
   "execution_count": null,
   "id": "c661191c",
   "metadata": {},
   "outputs": [],
   "source": [
    "def romberg_integration(f,a,b,tol):\n",
    "    \n",
    "    #iteration variable\n",
    "    i = 0\n",
    "    \n",
    "    #max number of iterations\n",
    "    imax = 1000\n",
    "    \n",
    "    #create an error estimate\n",
    "    #set to a large value\n",
    "    delta = 100.0*np.fabs(tol)\n",
    "    \n",
    "    #set an array of integral answers\n",
    "    I = np.zeros(imax,dtype=float)\n",
    "    \n",
    "    #get the zeroth romberg iteration\n",
    "    I[0] = 0.5*(b-a)*(f(a) + f(b))\n",
    "    \n",
    "    #iterate by 1\n",
    "    i += 1\n",
    "    \n",
    "    while(delta>tol):\n",
    "        \n",
    "        #find this romberg iteration\n",
    "        I[i] = 0.5*I[i-1] + romberg_core(f,a,b,i)\n",
    "        \n",
    "        #compute the new fractional error estimate\n",
    "        delta = np.fabs((I[i] - I[i-1])/I[i])\n",
    "        \n",
    "        print(i,I[i],I[i-1],delta)\n",
    "        \n",
    "        if(delta>tol):\n",
    "            \n",
    "            #iterate \n",
    "            i+=1\n",
    "            \n",
    "            #if we've reached the maximum iterations\n",
    "            if(i>imax):\n",
    "                print(\"Maximum iterations reached.\")\n",
    "                raise StopIteration('Stopping iterations after ',i)\n",
    "    #return answer\n",
    "    return I[i]"
   ]
  },
  {
   "cell_type": "markdown",
   "id": "8310367d",
   "metadata": {},
   "source": [
    "## Now to check the integrals"
   ]
  },
  {
   "cell_type": "code",
   "execution_count": null,
   "id": "4fb277a8",
   "metadata": {},
   "outputs": [],
   "source": [
    "Answer = func_integral(np.pi) - func_integral(0)\n",
    "print(Answer)\n",
    "print(\"Trapezoid Method\")\n",
    "print(trapezoid_method(func,0,np.pi,3388))\n",
    "print(\"Simpson's Method\")\n",
    "print(simpsons_method(func,0,np.pi,141))\n",
    "print(\"Romberg Integration\")\n",
    "tolerance = 1.0e-6\n",
    "RI = romberg_integration(func,0,np.pi,tolerance)\n",
    "print(RI,(RI-Answer)/Answer,tolerance)"
   ]
  },
  {
   "cell_type": "markdown",
   "id": "0d3470f0",
   "metadata": {},
   "source": [
    "### Romberg Integration takes 26 iterations to reach the specified accuracy\n",
    "### The Trapezoid Method takes 3388 intervals to reach the specified accuracy\n",
    "### Simpson's Method takes 141 intervals to reach the specified accuracy"
   ]
  },
  {
   "cell_type": "code",
   "execution_count": null,
   "id": "3bca9146",
   "metadata": {},
   "outputs": [],
   "source": []
  }
 ],
 "metadata": {
  "kernelspec": {
   "display_name": "Python 3 (ipykernel)",
   "language": "python",
   "name": "python3"
  },
  "language_info": {
   "codemirror_mode": {
    "name": "ipython",
    "version": 3
   },
   "file_extension": ".py",
   "mimetype": "text/x-python",
   "name": "python",
   "nbconvert_exporter": "python",
   "pygments_lexer": "ipython3",
   "version": "3.9.6"
  }
 },
 "nbformat": 4,
 "nbformat_minor": 5
}
